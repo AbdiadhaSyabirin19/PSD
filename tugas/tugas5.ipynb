{
 "cells": [
  {
   "cell_type": "code",
   "execution_count": null,
   "id": "4e3ccc6d",
   "metadata": {},
   "outputs": [],
   "source": []
  },
  {
   "cell_type": "code",
   "execution_count": 2,
   "id": "544a25b5",
   "metadata": {},
   "outputs": [
    {
     "name": "stdout",
     "output_type": "stream",
     "text": [
      "Data awal:\n",
      "   id       date  val\n",
      "0   1 2025-10-01   42\n",
      "1   2 2025-10-02   37\n",
      "2   3 2025-10-03   45\n",
      "3   4 2025-10-04   33\n",
      "4   5 2025-10-05   50\n",
      "\n",
      "Dataset dengan 3 fitur:\n",
      "   id       date  val  val_t-1  val_t-2  val_t-3\n",
      "0   4 2025-10-04   33     45.0     37.0     42.0\n",
      "1   5 2025-10-05   50     33.0     45.0     37.0\n",
      "2   6 2025-10-06   41     50.0     33.0     45.0\n",
      "3   7 2025-10-07   39     41.0     50.0     33.0\n",
      "4   8 2025-10-08   53     39.0     41.0     50.0\n",
      "\n",
      "Dataset dengan 4 fitur:\n",
      "   id       date  val  val_t-1  val_t-2  val_t-3  val_t-4\n",
      "0   5 2025-10-05   50     33.0     45.0     37.0     42.0\n",
      "1   6 2025-10-06   41     50.0     33.0     45.0     37.0\n",
      "2   7 2025-10-07   39     41.0     50.0     33.0     45.0\n",
      "3   8 2025-10-08   53     39.0     41.0     50.0     33.0\n",
      "4   9 2025-10-09   44     53.0     39.0     41.0     50.0\n"
     ]
    }
   ],
   "source": [
    "import pandas as pd\n",
    "\n",
    "# === 1. Baca dataset dari Excel ===\n",
    "df = pd.read_excel(\"C:\\\\Dokumen\\\\PSD\\\\dataset\\\\data_timeseries.xlsx\")  # ubah sesuai nama file Excel kamu\n",
    "print(\"Data awal:\")\n",
    "print(df.head())\n",
    "\n",
    "# === 2. Urutkan berdasarkan tanggal ===\n",
    "df = df.sort_values(\"date\")\n",
    "\n",
    "# === 3. Ubah menjadi dataset supervised ===\n",
    "# Fungsi untuk membuat supervised dataset\n",
    "def make_supervised(data, n_lag=3):\n",
    "    df_supervised = data.copy()\n",
    "    for i in range(1, n_lag + 1):\n",
    "        df_supervised[f\"val_t-{i}\"] = df_supervised[\"val\"].shift(i)\n",
    "    # Hapus baris dengan nilai NaN (karena hasil shift)\n",
    "    df_supervised = df_supervised.dropna().reset_index(drop=True)\n",
    "    return df_supervised\n",
    "\n",
    "# Dataset 1: 3 fitur (val_t-1, val_t-2, val_t-3)\n",
    "supervised_3 = make_supervised(df, n_lag=3)\n",
    "\n",
    "# Dataset 2: 4 fitur (val_t-1, val_t-2, val_t-3, val_t-4)\n",
    "supervised_4 = make_supervised(df, n_lag=4)\n",
    "\n",
    "# === 4. Lihat hasilnya ===\n",
    "print(\"\\nDataset dengan 3 fitur:\")\n",
    "print(supervised_3.head())\n",
    "\n",
    "print(\"\\nDataset dengan 4 fitur:\")\n",
    "print(supervised_4.head())\n",
    "\n",
    "# === 5. (Opsional) Simpan hasil ke Excel ===\n",
    "supervised_3.to_excel(\"dataset_supervised_3.xlsx\", index=False)\n",
    "supervised_4.to_excel(\"dataset_supervised_4.xlsx\", index=False)\n"
   ]
  }
 ],
 "metadata": {
  "kernelspec": {
   "display_name": "Python 3",
   "language": "python",
   "name": "python3"
  },
  "language_info": {
   "codemirror_mode": {
    "name": "ipython",
    "version": 3
   },
   "file_extension": ".py",
   "mimetype": "text/x-python",
   "name": "python",
   "nbconvert_exporter": "python",
   "pygments_lexer": "ipython3",
   "version": "3.11.13"
  }
 },
 "nbformat": 4,
 "nbformat_minor": 5
}
