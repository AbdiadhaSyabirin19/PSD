{
 "cells": [
  {
   "cell_type": "markdown",
   "metadata": {
    "id": "OuojtlQ4yALG"
   },
   "source": [
    "# Data Understanding"
   ]
  },
  {
   "cell_type": "markdown",
   "metadata": {
    "id": "Cr6qsTxfQ4FA"
   },
   "source": [
    "## - Pengertian\n",
    "\n",
    "Data Understanding adalah tahap di CRISP-DM yang fokus pada mengumpulkan, mengenal, dan memahami data yang relevan dengan masalah bisnis. Tahap ini dilakukan setelah Business Understanding, agar tim bisa melihat apakah data yang ada cukup untuk dijadikan dasar analisis atau model.\n",
    "\n",
    "Intinya, Data Understanding adalah proses untuk memastikan data siap dipakai dan sesuai dengan tujuan proyek.\n",
    "\n",
    "## - Tujuan Data Understanding\n",
    "\n",
    "- Mengidentifikasi sumber data\n",
    "\n",
    "- Menentukan data internal (misal: database perusahaan) dan eksternal (misal: data publik, API).\n",
    "\n",
    "- Memeriksa kualitas data\n",
    "\n",
    "- Mengecek data yang hilang (missing values), duplikat, inkonsistensi, atau kesalahan input.\n",
    "\n",
    "- Memahami struktur data\n",
    "\n",
    "- Mengetahui tipe data (numerik, kategorik), ukuran dataset, jumlah fitur, dan variabel target.\n",
    "\n",
    "- Menilai kelayakan data untuk analisis\n",
    "\n",
    "- Menentukan apakah data cukup lengkap dan relevan untuk membangun model yang akurat.\n",
    "\n",
    "## - Langkah-langkah Data Understanding\n",
    "\n",
    "- Koleksi data awal (Mengambil data dari database, CSV, API, atau sumber lainnya).\n",
    "\n",
    "- Deskripsi data awal (Melihat ringkasan statistik tiap variabel: mean, median, modus, min, max).\n",
    "\n",
    "- Verifikasi kualitas data (Mengecek missing values, outlier, kesalahan pencatatan, dan duplikat).\n",
    "\n",
    "- Pemahaman konteks bisnis data (Mengetahui arti setiap kolom/faktor, serta hubungan potensial dengan tujuan proyek).\n",
    "\n",
    "## - Contoh Data Understanding\n",
    "\n",
    "- Kasus: E-commerce ingin mengurangi churn pelanggan\n",
    "\n",
    "- Mengumpulkan data: transaksi, login, umur akun, demografi, interaksi dengan email promosi.\n",
    "\n",
    "- Mengecek kualitas: ada 5% data umur akun yang kosong → perlu diisi/dihapus.\n",
    "\n",
    "- Memahami konteks: frekuensi transaksi rendah kemungkinan menjadi indikator churn."
   ]
  }
 ],
 "metadata": {
  "colab": {
   "authorship_tag": "ABX9TyM/ku0/HGtYE65dXXxx+Fzu",
   "provenance": []
  },
  "kernelspec": {
   "display_name": "Python 3",
   "name": "python3"
  },
  "language_info": {
   "name": "python"
  }
 },
 "nbformat": 4,
 "nbformat_minor": 0
}
